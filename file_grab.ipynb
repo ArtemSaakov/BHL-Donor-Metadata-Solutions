{
 "cells": [
  {
   "cell_type": "code",
   "execution_count": null,
   "metadata": {},
   "outputs": [],
   "source": [
    "# Import the necessary libraries\n",
    "import os\n",
    "import pandas as pd"
   ]
  },
  {
   "cell_type": "code",
   "execution_count": null,
   "metadata": {},
   "outputs": [],
   "source": [
    "def get_directory_structure(root_dir):\n",
    "    data = []\n",
    "    \n",
    "    # Walk through the donor provided directory\n",
    "    for root, subdirs, files in os.walk(root_dir):\n",
    "        if root == root_dir:\n",
    "            # Skip the root directory itself in the first level (this theoretically\n",
    "            # is the \"collection\", which would already be created in ArchiveSpace and \n",
    "            # is not needed in the bulk_import_template, so we only need to \n",
    "            # grab the folders and files within the collection, aka the series and files)\n",
    "            continue\n",
    "        # Calculate nesting level (1 for root, increasing for subdirectories and files)\n",
    "        level = root.replace(root_dir, \"\").count(os.sep)\n",
    "        \n",
    "        # Add the directory itself\n",
    "        data.append((os.path.basename(root) if os.path.basename(root) else root_dir, level))\n",
    "        \n",
    "        # Add files within the directory\n",
    "        for file in files:\n",
    "            data.append((file, level + 1))\n",
    "\n",
    "    return data"
   ]
  },
  {
   "cell_type": "code",
   "execution_count": null,
   "metadata": {},
   "outputs": [
    {
     "name": "stdout",
     "output_type": "stream",
     "text": [
      "Files saved as directory_structure.csv and directory_structure.xlsx\n"
     ]
    }
   ],
   "source": [
    "root_directory = r\"C:\\Users\\stouq\\Pictures\\Screenshots\" # Change this to your desired root directory path aka the donor provided directory\n",
    "\n",
    "# Run the function to get the structured data\n",
    "structured_data = get_directory_structure(root_directory)\n",
    "\n",
    "# Convert to a DataFrame\n",
    "df = pd.DataFrame(structured_data, columns=[\"Title\", \"Level\"])\n",
    "\n",
    "# Save to an Excel file\n",
    "df.to_excel(\"directory_structure.xlsx\", index=False) # You can change the filename as needed, make sure to include the .xlsx extension\n",
    "\n",
    "print(\"File saved as directory_structure.xlsx\")"
   ]
  }
 ],
 "metadata": {
  "kernelspec": {
   "display_name": "Python 3",
   "language": "python",
   "name": "python3"
  },
  "language_info": {
   "codemirror_mode": {
    "name": "ipython",
    "version": 3
   },
   "file_extension": ".py",
   "mimetype": "text/x-python",
   "name": "python",
   "nbconvert_exporter": "python",
   "pygments_lexer": "ipython3",
   "version": "3.11.5"
  }
 },
 "nbformat": 4,
 "nbformat_minor": 2
}
